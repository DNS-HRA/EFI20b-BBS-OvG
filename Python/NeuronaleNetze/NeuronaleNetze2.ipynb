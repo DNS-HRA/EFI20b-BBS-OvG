{
 "cells": [
  {
   "cell_type": "markdown",
   "source": [
    "# Neuronale Netze 2"
   ],
   "metadata": {
    "collapsed": false
   }
  },
  {
   "cell_type": "code",
   "execution_count": null,
   "outputs": [],
   "source": [
    "def entscheidung(summe):\n",
    "    \"\"\"\n",
    "    Berechnung der Entscheidung zum Wert summe\n",
    "    Input: summe\n",
    "    Output: 1, falls summe >=1,\n",
    "            0 sonst\n",
    "    \"\"\"\n",
    "    if summe >= 1:\n",
    "        return 1\n",
    "    else:\n",
    "        return 0\n",
    "\n",
    "# Berechnung der entscheidung\n",
    "ergebnis = entscheidung(1)\n",
    "\n",
    "print('Input:', 1)\n",
    "print('Output: ',ergebnis)"
   ],
   "metadata": {
    "collapsed": false,
    "pycharm": {
     "name": "#%%\n"
    }
   }
  },
  {
   "cell_type": "markdown",
   "source": [
    "# Stufenfunktion"
   ],
   "metadata": {
    "collapsed": false
   }
  },
  {
   "cell_type": "code",
   "execution_count": null,
   "outputs": [],
   "source": [
    "import matplotlib.pyplot as plt\n",
    "\n",
    "%matplotlib inline\n",
    "\n",
    "def entscheidung(summe):\n",
    "    \"\"\"\n",
    "    Berechnung der Entscheidung zum Wert summe\n",
    "    Input: summe\n",
    "    Output: 1, falls summe >=1,\n",
    "            0 sonst\n",
    "    \"\"\"\n",
    "    if summe >= 1:\n",
    "        return 1\n",
    "    else:\n",
    "        return 0\n",
    "\n",
    "# x-Werte des Graphen\n",
    "x = [-1,0,0.999,1,2]\n",
    "# y-Werte des Graphen\n",
    "y = [entscheidung(i) for i in x]\n",
    "\n",
    "#Graph erzeugen\n",
    "plt.step(x, y, color='Orange', label='step')\n",
    "\n",
    "# Die Achsen setzen\n",
    "plt.grid(True)\n",
    "\n",
    "# x und y Achse in Schwarz und etwas dicker\n",
    "plt.axhline(0, color='black', lw='1')\n",
    "plt.axvline(0, color='black', lw='1')\n",
    "\n",
    "#Achsenbeschriftung und Titel\n",
    "plt.xlabel('Summe')\n",
    "plt.ylabel('Ergebnis')\n",
    "plt.title('Stufenfunktion')\n",
    "\n",
    "#Graph zeigen\n",
    "plt.show()\n"
   ],
   "metadata": {
    "collapsed": false,
    "pycharm": {
     "name": "#%%\n"
    }
   }
  },
  {
   "cell_type": "markdown",
   "source": [
    "# Punkte zeichnen\n"
   ],
   "metadata": {
    "collapsed": false
   }
  },
  {
   "cell_type": "code",
   "execution_count": 11,
   "outputs": [
    {
     "name": "stdout",
     "output_type": "stream",
     "text": [
      "Der Vektor x1:  [0 0 1 1]\n"
     ]
    },
    {
     "data": {
      "text/plain": "<function matplotlib.pyplot.show(close=None, block=None)>"
     },
     "execution_count": 11,
     "metadata": {},
     "output_type": "execute_result"
    },
    {
     "data": {
      "text/plain": "<Figure size 432x288 with 1 Axes>",
      "image/png": "[encoded data removed]"
     },
     "metadata": {
      "needs_background": "light"
     },
     "output_type": "display_data"
    }
   ],
   "source": [
    "#Mathematik\n",
    "import numpy as np\n",
    "#Import des Plotters\n",
    "import matplotlib.pyplot as plt\n",
    "#Anzeige des Plot\n",
    "%matplotlib inline\n",
    "\n",
    "# x1 Koordinaten\n",
    "x1 = np.array([0,0,1,1])\n",
    "# x2 Koordinaten\n",
    "x2 = np.array([0,1,0,1])\n",
    "\n",
    "# Farben für die Punkte\n",
    "color = np.array(['black', 'black', 'red', 'black'])\n",
    "# Punktgröße\n",
    "size = np.array([100, 100, 500, 100])\n",
    "# Vektor x1 ausgeben\n",
    "print('Der Vektor x1: ', x1)\n",
    "\n",
    "# Die Achsen setzen\n",
    "plt.grid(True)\n",
    "\n",
    "#Plot zeichnen\n",
    "plt.scatter(x1, x2, c=color, s=size)\n",
    "\n",
    "# Die Achsen setzen\n",
    "plt.xlabel('x1')\n",
    "plt.ylabel('x2')\n",
    "\n",
    "# Achseneinteilung setzen\n",
    "plt.xticks([0.0,1.0])\n",
    "plt.yticks([0.0,1.0])\n",
    "\n",
    "# PLOTTEN!!!!\n",
    "plt.show\n"
   ],
   "metadata": {
    "collapsed": false,
    "pycharm": {
     "name": "#%%\n"
    }
   }
  }
 ],
 "metadata": {
  "kernelspec": {
   "display_name": "Python 3",
   "language": "python",
   "name": "python3"
  },
  "language_info": {
   "codemirror_mode": {
    "name": "ipython",
    "version": 2
   },
   "file_extension": ".py",
   "mimetype": "text/x-python",
   "name": "python",
   "nbconvert_exporter": "python",
   "pygments_lexer": "ipython2",
   "version": "2.7.6"
  }
 },
 "nbformat": 4,
 "nbformat_minor": 0
}