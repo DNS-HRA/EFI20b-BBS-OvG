{
 "cells": [
  {
   "cell_type": "markdown",
   "source": [
    "# Neuronale Netze 1"
   ],
   "metadata": {
    "collapsed": false,
    "pycharm": {
     "name": "#%% md\n"
    }
   }
  },
  {
   "cell_type": "markdown",
   "source": [
    "# Grundlagen zum Jypiter Notebook"
   ],
   "metadata": {
    "collapsed": false,
    "pycharm": {
     "name": "#%% md\n"
    }
   }
  },
  {
   "cell_type": "markdown",
   "id": "latest-lounge",
   "metadata": {
    "pycharm": {
     "name": "#%% md\n"
    }
   },
   "source": [
    "Das ist ein **Text** mit *Formatierungszeichen*\n",
    "\n",
    "1. Nummierte Listen beginnen mit einer Nummer\n",
    "2. wobei die Nummer beliebig gewählt werden kann\n",
    "3. nämlich so - beim Übersetzen wird das richtig eingestellt\n",
    "    1. Sublisten werden mit Einrückung erstellt\n",
    "\n",
    "Absätze werden durch eine Leerzeile erzeugt\n",
    "Zeilenumbrücke durch zwei Leerzeichen am Ende einer Zeile  \n",
    "\n",
    "Auch Weblinks werden mit Rundklammern schnell erzeugt. [Anaconda Distribution](http://www.anaconda.com)"
   ]
  },
  {
   "cell_type": "markdown",
   "source": [
    "# einfacher Python Code"
   ],
   "metadata": {
    "collapsed": false,
    "pycharm": {
     "name": "#%% md\n"
    }
   }
  },
  {
   "cell_type": "code",
   "execution_count": 1,
   "outputs": [
    {
     "name": "stdout",
     "output_type": "stream",
     "text": [
      "Das ist der erste Python Code\n"
     ]
    }
   ],
   "source": [
    "a=\"Das ist der erste Python Code\"\n",
    "print(a)"
   ],
   "metadata": {
    "collapsed": false,
    "pycharm": {
     "name": "#%%\n"
    }
   }
  },
  {
   "cell_type": "markdown",
   "source": [
    "# Fehlerfunktion"
   ],
   "metadata": {
    "collapsed": false,
    "pycharm": {
     "name": "#%% md\n"
    }
   }
  },
  {
   "cell_type": "code",
   "execution_count": 5,
   "outputs": [
    {
     "name": "stdout",
     "output_type": "stream",
     "text": [
      "3.8000000000000003\n"
     ]
    }
   ],
   "source": [
    "def fehlerfunc(x,y):\n",
    "    return x/y\n",
    "\n",
    "def avg_beelenght(valuelist):\n",
    "    total = sum(valuelist)\n",
    "    count = len(valuelist)\n",
    "\n",
    "    return fehlerfunc(total,count)\n",
    "\n",
    "bees = (3, 3.5, 4.1, 5.2, 5, 2)\n",
    "nobees = ()\n",
    "print(avg_beelenght(bees))"
   ],
   "metadata": {
    "collapsed": false,
    "pycharm": {
     "name": "#%%\n"
    }
   }
  }
 ],
 "metadata": {
  "kernelspec": {
   "name": "python3",
   "language": "python",
   "display_name": "Python 3"
  },
  "language_info": {
   "codemirror_mode": {
    "name": "ipython",
    "version": 3
   },
   "file_extension": ".py",
   "mimetype": "text/x-python",
   "name": "python",
   "nbconvert_exporter": "python",
   "pygments_lexer": "ipython3",
   "version": "3.8.5"
  }
 },
 "nbformat": 4,
 "nbformat_minor": 5
}