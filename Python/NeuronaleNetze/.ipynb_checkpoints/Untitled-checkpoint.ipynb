{
 "cells": [
  {
   "cell_type": "markdown",
   "id": "latest-lounge",
   "metadata": {},
   "source": [
    "Das ist ein **Text** mit *Formatierungszeichen*\n",
    "\n",
    "1. Nummierte Listen beginnen mit einer Nummer\n",
    "2. wobei die Nummer beliebig gewählt werden kann\n",
    "3. nämlich so - beim Übersetzen wird das richtig eingestellt\n",
    "    1. Sublisten werden mit Einrückung erstellt\n",
    "\n",
    "Absätze werden durch eine Leerzeile erzeugt\n",
    "Zeilenumbrücke durch zwei Leerzeichen am Ende einer Zeile  \n",
    "\n",
    "Auch Weblinks werden mit Rundklammern schnell erzeugt. [Anaconda Distribution](http://www.anaconda.com)"
   ]
  },
  {
   "cell_type": "code",
   "execution_count": 4,
   "id": "acoustic-suggestion",
   "metadata": {},
   "outputs": [
    {
     "name": "stdout",
     "output_type": "stream",
     "text": [
      "Das ist der erste Python Code\n"
     ]
    }
   ],
   "source": [
    "a=\"Das ist der erste Python Code\";\n",
    "print(a);"
   ]
  },
  {
   "cell_type": "code",
   "execution_count": null,
   "id": "opening-oriental",
   "metadata": {},
   "outputs": [],
   "source": []
  }
 ],
 "metadata": {
  "kernelspec": {
   "display_name": "Python 3",
   "language": "python",
   "name": "python3"
  },
  "language_info": {
   "codemirror_mode": {
    "name": "ipython",
    "version": 3
   },
   "file_extension": ".py",
   "mimetype": "text/x-python",
   "name": "python",
   "nbconvert_exporter": "python",
   "pygments_lexer": "ipython3",
   "version": "3.8.5"
  }
 },
 "nbformat": 4,
 "nbformat_minor": 5
}
